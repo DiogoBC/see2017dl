{
 "cells": [
  {
   "cell_type": "markdown",
   "metadata": {},
   "source": [
    "# Numpy\n",
    "Numpy é uma biblioteca de álgebra linear para a linguagem Python, a razão que numpy é tão importante para o minicurso é a intensa utilização da formulação matricial para o desenvolvimento da teoria e da aplicação em redes neurais. <br>\n",
    "Outro motivo é que Numpy é extremamente rápido, a biblioteca possui vinculação com a linguagem C e isto a torna uma excelente escolha para a implementações que exigem eficiência em cálculo numérico."
   ]
  },
  {
   "cell_type": "markdown",
   "metadata": {},
   "source": [
    "## Instruções de instalação\n",
    "Após a instalação do gerenciador de pacotes Anaconda, por padrão, a biblioteca Numpy será instalada automaticamente. \n",
    "Caso você tenha feito modificações no momento da instalação, deverá utilizar o comando <br>\n",
    "<span style=\"display:inline-block; width: 10px;\"></span>    `conda install numpy`"
   ]
  },
  {
   "cell_type": "markdown",
   "metadata": {},
   "source": [
    "## Usando Numpy\n",
    "Uma vez instalado, você pode importar a biblioteca usando:"
   ]
  },
  {
   "cell_type": "code",
   "execution_count": 1,
   "metadata": {
    "collapsed": true
   },
   "outputs": [],
   "source": [
    "import numpy as np"
   ]
  },
  {
   "cell_type": "markdown",
   "metadata": {},
   "source": [
    "Numpy possui diversas funções e implementações úteis, entre elas: arrays, vetores, matrizes e geração de números. Uma array pode ser um vetor ou uma matriz."
   ]
  },
  {
   "cell_type": "markdown",
   "metadata": {},
   "source": [
    "# 1. Arrays usando Numpy "
   ]
  },
  {
   "cell_type": "markdown",
   "metadata": {},
   "source": [
    "## 1.1. Criando arrays"
   ]
  },
  {
   "cell_type": "markdown",
   "metadata": {},
   "source": [
    "## A partir de uma lista em Python\n",
    "Pode-se criar uma array em Numpy a partir da conversão direta de uma lista em python, ou uma lista de uma lista (matriz)."
   ]
  },
  {
   "cell_type": "code",
   "execution_count": 2,
   "metadata": {
    "collapsed": false
   },
   "outputs": [
    {
     "data": {
      "text/plain": [
       "[1, 2, 3]"
      ]
     },
     "execution_count": 2,
     "metadata": {},
     "output_type": "execute_result"
    }
   ],
   "source": [
    "lista = [1,2,3]\n",
    "lista"
   ]
  },
  {
   "cell_type": "code",
   "execution_count": 3,
   "metadata": {
    "collapsed": false
   },
   "outputs": [
    {
     "data": {
      "text/plain": [
       "array([1, 2, 3])"
      ]
     },
     "execution_count": 3,
     "metadata": {},
     "output_type": "execute_result"
    }
   ],
   "source": [
    "np.array(lista)"
   ]
  },
  {
   "cell_type": "code",
   "execution_count": 4,
   "metadata": {
    "collapsed": false
   },
   "outputs": [
    {
     "data": {
      "text/plain": [
       "[[1, 0, 0], [0, 1, 0], [0, 0, 1]]"
      ]
     },
     "execution_count": 4,
     "metadata": {},
     "output_type": "execute_result"
    }
   ],
   "source": [
    "matriz = [[1,0,0],[0,1,0],[0,0,1]]\n",
    "matriz"
   ]
  },
  {
   "cell_type": "code",
   "execution_count": 8,
   "metadata": {
    "collapsed": false
   },
   "outputs": [
    {
     "data": {
      "text/plain": [
       "array([[1, 0, 0],\n",
       "       [0, 1, 0],\n",
       "       [0, 0, 1]])"
      ]
     },
     "execution_count": 8,
     "metadata": {},
     "output_type": "execute_result"
    }
   ],
   "source": [
    "np.array(matriz)"
   ]
  },
  {
   "cell_type": "markdown",
   "metadata": {},
   "source": [
    "### Métodos úteis\n",
    "Existem diversos métodos que facilitam a criação de arrays já inclusos na biblioteca Numpy."
   ]
  },
  {
   "cell_type": "markdown",
   "metadata": {},
   "source": [
    "#### arange\n",
    "Retorna valores igualmente espaçados para um dado intervalo."
   ]
  },
  {
   "cell_type": "code",
   "execution_count": 9,
   "metadata": {
    "collapsed": false
   },
   "outputs": [
    {
     "data": {
      "text/plain": [
       "array([ 0,  1,  2,  3,  4,  5,  6,  7,  8,  9, 10, 11, 12, 13, 14])"
      ]
     },
     "execution_count": 9,
     "metadata": {},
     "output_type": "execute_result"
    }
   ],
   "source": [
    "# Por default, o espaçamento padrão é de valor 1\n",
    "np.arange(0,20)"
   ]
  },
  {
   "cell_type": "code",
   "execution_count": 11,
   "metadata": {
    "collapsed": false
   },
   "outputs": [
    {
     "data": {
      "text/plain": [
       "array([ 0,  4,  8, 12, 16])"
      ]
     },
     "execution_count": 11,
     "metadata": {},
     "output_type": "execute_result"
    }
   ],
   "source": [
    "# Podemos selecionar o valor do espaçamento\n",
    "np.arange(0,20,4)"
   ]
  },
  {
   "cell_type": "markdown",
   "metadata": {},
   "source": [
    "### zeros e ones\n",
    "Retornam arrays compostas apenas de zeros ou de uns."
   ]
  },
  {
   "cell_type": "code",
   "execution_count": 12,
   "metadata": {
    "collapsed": false
   },
   "outputs": [
    {
     "data": {
      "text/plain": [
       "array([[ 0.,  0.,  0.,  0.,  0.],\n",
       "       [ 0.,  0.,  0.,  0.,  0.],\n",
       "       [ 0.,  0.,  0.,  0.,  0.],\n",
       "       [ 0.,  0.,  0.,  0.,  0.],\n",
       "       [ 0.,  0.,  0.,  0.,  0.]])"
      ]
     },
     "execution_count": 12,
     "metadata": {},
     "output_type": "execute_result"
    }
   ],
   "source": [
    "np.zeros((5,5))"
   ]
  },
  {
   "cell_type": "code",
   "execution_count": 13,
   "metadata": {
    "collapsed": false
   },
   "outputs": [
    {
     "data": {
      "text/plain": [
       "array([ 1.,  1.,  1.,  1.,  1.])"
      ]
     },
     "execution_count": 13,
     "metadata": {},
     "output_type": "execute_result"
    }
   ],
   "source": [
    "np.ones(5)"
   ]
  },
  {
   "cell_type": "markdown",
   "metadata": {},
   "source": [
    "### linspace\n",
    "Retorna uma certa quantia de valores igualmente espaçados em um dado intervalo."
   ]
  },
  {
   "cell_type": "code",
   "execution_count": 19,
   "metadata": {
    "collapsed": false
   },
   "outputs": [
    {
     "data": {
      "text/plain": [
       "array([  0. ,   0.5,   1. ,   1.5,   2. ,   2.5,   3. ,   3.5,   4. ,\n",
       "         4.5,   5. ,   5.5,   6. ,   6.5,   7. ,   7.5,   8. ,   8.5,\n",
       "         9. ,   9.5,  10. ,  10.5,  11. ,  11.5,  12. ,  12.5,  13. ,\n",
       "        13.5,  14. ,  14.5,  15. ,  15.5,  16. ,  16.5,  17. ,  17.5,\n",
       "        18. ,  18.5,  19. ,  19.5,  20. ,  20.5,  21. ,  21.5,  22. ,\n",
       "        22.5,  23. ,  23.5,  24. ,  24.5,  25. ])"
      ]
     },
     "execution_count": 19,
     "metadata": {},
     "output_type": "execute_result"
    }
   ],
   "source": [
    "np.linspace(0,25,51)"
   ]
  },
  {
   "cell_type": "markdown",
   "metadata": {},
   "source": [
    "### eye"
   ]
  },
  {
   "cell_type": "markdown",
   "metadata": {},
   "source": [
    "Retorna matrizes identidades dado uma dimensão"
   ]
  },
  {
   "cell_type": "code",
   "execution_count": 22,
   "metadata": {
    "collapsed": false
   },
   "outputs": [
    {
     "data": {
      "text/plain": [
       "array([[ 1.,  0.,  0.,  0.,  0.,  0.],\n",
       "       [ 0.,  1.,  0.,  0.,  0.,  0.],\n",
       "       [ 0.,  0.,  1.,  0.,  0.,  0.],\n",
       "       [ 0.,  0.,  0.,  1.,  0.,  0.],\n",
       "       [ 0.,  0.,  0.,  0.,  1.,  0.],\n",
       "       [ 0.,  0.,  0.,  0.,  0.,  1.]])"
      ]
     },
     "execution_count": 22,
     "metadata": {},
     "output_type": "execute_result"
    }
   ],
   "source": [
    "np.eye(6)"
   ]
  },
  {
   "cell_type": "markdown",
   "metadata": {},
   "source": [
    "### Arrays com números aleatórios"
   ]
  },
  {
   "cell_type": "markdown",
   "metadata": {},
   "source": [
    "### Random\n",
    "O método random fornece várias maneiras de gerar arrays com números aleatórios."
   ]
  },
  {
   "cell_type": "code",
   "execution_count": 40,
   "metadata": {
    "collapsed": true
   },
   "outputs": [],
   "source": [
    "# Vamos importar a biblioteca matplotlib para visualizar a diferença entre as distribuições \n",
    "# de números aleatórios fornecidas pelo método random.\n",
    "import matplotlib.pyplot as plt\n",
    "%matplotlib inline"
   ]
  },
  {
   "cell_type": "markdown",
   "metadata": {},
   "source": [
    "#### rand\n",
    "Retorna uma array dado um formato e a preenche com valores aleatórios em uma distribuição uniforme no intervalo [0,1)"
   ]
  },
  {
   "cell_type": "code",
   "execution_count": 41,
   "metadata": {
    "collapsed": false
   },
   "outputs": [
    {
     "name": "stdout",
     "output_type": "stream",
     "text": [
      "[ 0.08138805  0.76015561  0.7764734   0.78031851  0.22360456  0.710799\n",
      "  0.54218462  0.40066694  0.48699595  0.96455068  0.21686624  0.54043873\n",
      "  0.79774719  0.20884704  0.96861498  0.19437299  0.57131256  0.40160656\n",
      "  0.50331698  0.62034383  0.03097027  0.70986086  0.56384622  0.22284874\n",
      "  0.41659996  0.5438471   0.4614624   0.56888625  0.7113504   0.8095915\n",
      "  0.33200039  0.94390805  0.18936114  0.09957109  0.06622681  0.36278664\n",
      "  0.62226677  0.3760823   0.35025912  0.5644496   0.71387153  0.17036213\n",
      "  0.34779493  0.17469971  0.31339307  0.41728112  0.77892582  0.82435169\n",
      "  0.71777965  0.01153054  0.93810244  0.60488185  0.45425325  0.99043387\n",
      "  0.66252269  0.17029895  0.01322213  0.44519751  0.79486789  0.7327071\n",
      "  0.79915252  0.40949669  0.9319528   0.34883679  0.53867501  0.1493746\n",
      "  0.06539524  0.76997251  0.53739256  0.51862324  0.26573752  0.81304028\n",
      "  0.61133086  0.50426018  0.37946467  0.07369031  0.57574132  0.11941334\n",
      "  0.34488106  0.41730794  0.06965487  0.31499138  0.24136005  0.03700253\n",
      "  0.7894166   0.64897953  0.94533716  0.23898066  0.24429954  0.81047865\n",
      "  0.75372149  0.28147934  0.20706722  0.6558349   0.1044443   0.9059224\n",
      "  0.0290332   0.86247655  0.45294742  0.24648009]\n"
     ]
    },
    {
     "data": {
      "text/plain": [
       "(array([ 1.2258616 ,  0.81724107,  1.02155133,  1.2258616 ,  0.9193962 ,\n",
       "         1.32801673,  0.71508593,  1.32801673,  0.81724107,  0.81724107]),\n",
       " array([ 0.01153054,  0.10942088,  0.20731121,  0.30520154,  0.40309188,\n",
       "         0.50098221,  0.59887254,  0.69676287,  0.79465321,  0.89254354,\n",
       "         0.99043387]),\n",
       " <a list of 10 Patch objects>)"
      ]
     },
     "execution_count": 41,
     "metadata": {},
     "output_type": "execute_result"
    },
    {
     "data": {
      "image/png": "[encoded data removed]",
      "text/plain": [
       "<matplotlib.figure.Figure at 0x7fcbddcc9908>"
      ]
     },
     "metadata": {},
     "output_type": "display_data"
    }
   ],
   "source": [
    "array1 = np.random.rand(100)\n",
    "print(array1)\n",
    "plt.hist(array1, normed=True, bins=10)"
   ]
  },
  {
   "cell_type": "markdown",
   "metadata": {},
   "source": [
    "#### randn\n",
    "Retorna uma array dado um formato e a preenche com valores aleatórios em uma distribuição norma no intervalo [0,1)"
   ]
  },
  {
   "cell_type": "code",
   "execution_count": 42,
   "metadata": {
    "collapsed": false
   },
   "outputs": [
    {
     "name": "stdout",
     "output_type": "stream",
     "text": [
      "[-0.00600327  0.38213203 -0.48027713  0.54275141 -1.43752039  0.59166992\n",
      "  1.44291868  0.82219536  2.50240812 -1.84895414  0.46695939  0.36249283\n",
      "  0.83646168 -1.15173754  1.02515487  1.08845094  0.08042657  0.2146388\n",
      " -0.73033966  0.39281675  0.01789784 -0.51851316  0.33052153 -0.18590698\n",
      "  0.50102922  2.30241584  0.55703464 -0.3395867  -0.04617742  0.0785581\n",
      " -0.15839662 -0.37700112 -0.29296528  1.32535664 -0.41997855  1.3878434\n",
      " -0.93332129  1.1127876  -0.11208499  0.29504116  0.33854551 -0.4699727\n",
      "  0.27095237 -0.15839796  0.16077515  1.46122952  0.63218318  1.82815682\n",
      "  1.05204858  0.45976046 -1.01345749 -0.98677661 -0.41024908  1.03970913\n",
      " -1.13229306  1.51187218 -2.31305074  1.3703934  -0.57890043  0.02380811\n",
      "  0.39421296  0.10549388 -2.25069449 -0.46336475 -1.97184812  0.26098324\n",
      " -0.49517032 -0.0851212   0.4347165  -0.44041525  0.633785    0.45553137\n",
      "  0.54871382 -1.15617491  0.26482301 -1.24402647  0.32540644  0.83585629\n",
      "  0.81411548  2.30113306 -0.66533316 -1.42313953  0.36271079 -0.1652449\n",
      " -0.47628608  0.77762033 -0.69062606 -1.16715846 -0.52910707  0.95378639\n",
      "  0.42645019 -0.20765295 -1.3468371   0.70734635  0.60498922 -1.20133899\n",
      " -1.58094823  0.77473995  0.76094192  0.85389192]\n"
     ]
    },
    {
     "data": {
      "text/plain": [
       "(array([ 0.08306581,  0.06229936,  0.20766453,  0.29073034,  0.33226325,\n",
       "         0.49839487,  0.3530297 ,  0.16613162,  0.02076645,  0.06229936]),\n",
       " array([-2.31305074, -1.83150485, -1.34995897, -0.86841308, -0.3868672 ,\n",
       "         0.09467869,  0.57622457,  1.05777046,  1.53931635,  2.02086223,\n",
       "         2.50240812]),\n",
       " <a list of 10 Patch objects>)"
      ]
     },
     "execution_count": 42,
     "metadata": {},
     "output_type": "execute_result"
    },
    {
     "data": {
      "image/png": "[encoded data removed]",
      "text/plain": [
       "<matplotlib.figure.Figure at 0x7fcbdb939c50>"
      ]
     },
     "metadata": {},
     "output_type": "display_data"
    }
   ],
   "source": [
    "array2 = np.random.randn(100)\n",
    "print(array2)\n",
    "plt.hist(array2, normed=True, bins=10)"
   ]
  },
  {
   "cell_type": "markdown",
   "metadata": {},
   "source": [
    "#### randint\n",
    "Retorna números inteiros aleatórios a partir de um intervalo [a,b), ou seja, não inclui o valor superior."
   ]
  },
  {
   "cell_type": "code",
   "execution_count": 43,
   "metadata": {
    "collapsed": false
   },
   "outputs": [
    {
     "data": {
      "text/plain": [
       "6"
      ]
     },
     "execution_count": 43,
     "metadata": {},
     "output_type": "execute_result"
    }
   ],
   "source": [
    "np.random.randint(1,10)"
   ]
  },
  {
   "cell_type": "code",
   "execution_count": 44,
   "metadata": {
    "collapsed": false
   },
   "outputs": [
    {
     "data": {
      "text/plain": [
       "array([86, 12,  6, 45, 51])"
      ]
     },
     "execution_count": 44,
     "metadata": {},
     "output_type": "execute_result"
    }
   ],
   "source": [
    "np.random.randint(1,100,5)"
   ]
  },
  {
   "cell_type": "markdown",
   "metadata": {},
   "source": [
    "## 1.2 Métodos e atributos de arrays em Numpy"
   ]
  },
  {
   "cell_type": "code",
   "execution_count": null,
   "metadata": {
    "collapsed": true
   },
   "outputs": [],
   "source": []
  }
 ],
 "metadata": {
  "kernelspec": {
   "display_name": "Python 3",
   "language": "python",
   "name": "python3"
  },
  "language_info": {
   "codemirror_mode": {
    "name": "ipython",
    "version": 3
   },
   "file_extension": ".py",
   "mimetype": "text/x-python",
   "name": "python",
   "nbconvert_exporter": "python",
   "pygments_lexer": "ipython3",
   "version": "3.6.0"
  }
 },
 "nbformat": 4,
 "nbformat_minor": 2
}
