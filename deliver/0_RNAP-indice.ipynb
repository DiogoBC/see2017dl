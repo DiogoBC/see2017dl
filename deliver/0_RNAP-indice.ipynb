{
 "cells": [
  {
   "cell_type": "markdown",
   "metadata": {},
   "source": [
    "# Minicurso de Introdução a Deep Learning"
   ]
  },
  {
   "cell_type": "markdown",
   "metadata": {},
   "source": [
    "<img src=\"../figures/curso-Deep-Learning-Processamento-Imagens-Unicamp.png\",width=600pt></img>"
   ]
  },
  {
   "cell_type": "markdown",
   "metadata": {},
   "source": [
    "# I - Introdução ao curso"
   ]
  },
  {
   "cell_type": "markdown",
   "metadata": {},
   "source": [
    "1. Conteúdo e formato do curso \n",
    "2. Introdução a Aprendizagem de Máquina, Redes Neurais Profundas e Redes Convolucionais\n",
    "3. Ferramentas e Ambiente de trabalho durante o curso\n",
    "    - Jupyter, Python, NumPy\n",
    "    * Toolbox ia898: [Tutoriais Jupyter/Python/NumPy/Proc. Imagens](../../ia898/master/0_index.ipynb)\n",
    "    \n",
    "4. [Glossário](Glossario.ipynb)"
   ]
  },
  {
   "cell_type": "markdown",
   "metadata": {},
   "source": [
    "# II - Introdução a redes neurais"
   ]
  },
  {
   "cell_type": "markdown",
   "metadata": {},
   "source": [
    "## Regressão Linear"
   ]
  },
  {
   "cell_type": "markdown",
   "metadata": {},
   "source": [
    "### Regressão Linear - codificação matricial NumPy - codificação Keras"
   ]
  },
  {
   "cell_type": "markdown",
   "metadata": {},
   "source": [
    "- Conceitos novos:\n",
    "- Teoria: Otimização Mínimos Quadrados usando gradiente descendente, notação matemática\n",
    "- Prática: Programação matricial $y = Xw$; Laço de gradiente descendente; Plotando gráficos; visualizando animação da otimização na função custo e no ajuste reta\n",
    "    * NB: [Regressão Linear](Regressao-Linear.ipynb) "
   ]
  },
  {
   "cell_type": "markdown",
   "metadata": {},
   "source": [
    "## Regressão Logística - Classificação"
   ]
  },
  {
   "cell_type": "markdown",
   "metadata": {},
   "source": [
    "### Softmax"
   ]
  },
  {
   "cell_type": "markdown",
   "metadata": {},
   "source": [
    "- Conceitos novos:\n",
    "- Teoria: Softmax para classificação multiclasse\n",
    "- Prática: Explorando comportamento do Softmax, com parâmetros interativos\n",
    " * NB: [Softmax](softmax.ipynb)\n",
    " "
   ]
  },
  {
   "cell_type": "markdown",
   "metadata": {},
   "source": [
    "### Regressão Logística multiclasse - Iris - implementação matricial"
   ]
  },
  {
   "cell_type": "markdown",
   "metadata": {},
   "source": [
    "- Conceitos novos: \n",
    "- Teoria: Classificação multiclasse com Softmax; Custo entropia cruzada; one-hot-encoding; mesmo modelo anterior de otimização\n",
    "    * NB: [Regressão Logística Multiclasse Softmax - Iris 2D - Programação matricial](Regressao-Logistica-Softmax-Iris-2D-matricial.ipynb)\n",
    "    * NB: [Regressão Logística Multiclasse Softmax - Iris 2D - programação matricial - fronteira dinâmica](Regressao-Logistica-Softmax-Iris-2D-matricial-Fronteira-Dinamica.ipynb)"
   ]
  },
  {
   "cell_type": "markdown",
   "metadata": {},
   "source": [
    "### Regressão Logística multiclasse - Iris - implementação no Keras"
   ]
  },
  {
   "cell_type": "markdown",
   "metadata": {},
   "source": [
    "- Conceitos novos:\n",
    "- Prática: Introdução inicial do Keras, mostrando que executa o mesmo exemplo anterior; criando a rede, definindo otimizador\n",
    " * NB: [Regressão Logística Multiclasse Softmax - Iris 2D - usando o Keras](Regressao-Logistica-Softmax-Iris-2D-Keras.ipynb)\n",
    " * NB: [Regressão Logística Multiclasse Softmax - Iris 2D - usando o Keras - Fronteira dinâmica](Regressao-Logistica-Softmax-Iris-2D-Keras-Fronteira-Dinamica.ipynb)\n",
    "\n",
    "### Regressão Logística multiclasse - dataset NMIST - implementação matricial"
   ]
  },
  {
   "cell_type": "markdown",
   "metadata": {},
   "source": [
    "- Conceitos novos:\n",
    "- Prática: dataset NMIST, Visualização dos pesos na forma de template; não é possível mais visualizar espaço de atributos nem espaço de parâmetros. Visualiza-se a queda da função de perda\n",
    " * NB: [Regressão Logística Multiclasse Softmax - MNIST - Programação Matricial](Regressao-Logistica-Softmax-MNIST-matricial.ipynb)"
   ]
  },
  {
   "cell_type": "markdown",
   "metadata": {},
   "source": [
    "### Regressão Logística multiclasse - dataset NMIST - implementação no Keras"
   ]
  },
  {
   "cell_type": "markdown",
   "metadata": {},
   "source": [
    "- Conceitos novos:\n",
    "- Prática: extraindo os pesos aprendidos da rede no Keras\n",
    " * NB: [Regressão Logística Multiclasse Softmax - MNIST - usando o Keras](Regressao-Logistica-Softmax-MNIST-Keras.ipynb)\n",
    " "
   ]
  },
  {
   "cell_type": "markdown",
   "metadata": {},
   "source": [
    "## Overfitting e Underfitting - Regularização"
   ]
  },
  {
   "cell_type": "markdown",
   "metadata": {},
   "source": [
    "### Ilustrando overfitting e underfitting, regularização com exemplo de  ajuste de polinômio"
   ]
  },
  {
   "cell_type": "markdown",
   "metadata": {},
   "source": [
    "- Conceitos novos:\n",
    "- Teoria: Conceito de overfitting e underfitting, conceito de regularização, função de custo\n",
    "- Prática: Explorando parâmetros de ajustes e parâmetros de regularização\n",
    " * NB: [Ajuste curvas: Overfitting - Underfitting - Regularização](overfitting_regularization.ipynb)"
   ]
  },
  {
   "cell_type": "markdown",
   "metadata": {},
   "source": [
    "## Ativações"
   ]
  },
  {
   "cell_type": "markdown",
   "metadata": {},
   "source": [
    "- Conceitos novos: \n",
    "- Teoria: introdução aos novos tipos de ativações não lineares\n",
    "- Prática: programa que implementa a equação de diversas ativações\n",
    " * NB: [Ativações](Activations.ipynb)"
   ]
  },
  {
   "cell_type": "markdown",
   "metadata": {
    "heading_collapsed": true
   },
   "source": [
    "# Documentação"
   ]
  },
  {
   "cell_type": "markdown",
   "metadata": {
    "hidden": true
   },
   "source": [
    "- [Jupyter Notebook](http://jupyter-notebook.readthedocs.io/en/latest/notebook.html)\n",
    "- [NumPy](https://docs.scipy.org/doc/)\n",
    "- [Matplotlib](https://matplotlib.org/contents.html)\n",
    "- [Keras](https://keras.io/)"
   ]
  },
  {
   "cell_type": "markdown",
   "metadata": {},
   "source": [
    "# Copia"
   ]
  },
  {
   "cell_type": "code",
   "execution_count": 2,
   "metadata": {
    "ExecuteTime": {
     "end_time": "2017-06-28T18:24:59.394875",
     "start_time": "2017-06-28T18:24:59.256590"
    },
    "collapsed": false
   },
   "outputs": [],
   "source": [
    "%cp ../../rnap/deliver/Glossario.ipynb ."
   ]
  },
  {
   "cell_type": "code",
   "execution_count": 5,
   "metadata": {
    "ExecuteTime": {
     "end_time": "2017-06-26T21:49:03.735578",
     "start_time": "2017-06-26T21:49:03.073652"
    },
    "collapsed": false
   },
   "outputs": [],
   "source": [
    "%cp ../../rnap/deliver/Regressao-Linear.ipynb .\n",
    "%cp ../rnap/deliver/softmax.ipynb .\n",
    "%cp ../rnap/deliver/Regressao-Logistica-Softmax-Iris-2D-matricial.ipynb .\n",
    "%cp ../rnap/deliver/Regressao-Logistica-Softmax-Iris-2D-matricial-Fronteira-Dinamica.ipynb .\n",
    "%cp ../rnap/deliver/Regressao-Logistica-Softmax-Iris-2D-Keras.ipynb .\n",
    "%cp ../rnap/deliver/Regressao-Logistica-Softmax-Iris-2D-Keras-Fronteira-Dinamica.ipynb .\n",
    "%cp ../rnap/deliver/Regressao-Logistica-Softmax-MNIST-matricial.ipynb .\n",
    "%cp ../rnap/deliver/Regressao-Logistica-Softmax-MNIST-Keras.ipynb .\n",
    "%cp ../rnap/deliver/overfitting_regularization.ipynb .\n",
    "%cp ../rnap/deliver/Activations.ipynb ."
   ]
  },
  {
   "cell_type": "code",
   "execution_count": 1,
   "metadata": {
    "ExecuteTime": {
     "end_time": "2017-05-21T17:31:49.662874",
     "start_time": "2017-05-21T17:31:49.659962"
    },
    "collapsed": false
   },
   "outputs": [],
   "source": [
    "# datasets: rossmann_train.csv.zip, rossmann_store_states.csv"
   ]
  },
  {
   "cell_type": "code",
   "execution_count": null,
   "metadata": {
    "collapsed": true
   },
   "outputs": [],
   "source": []
  }
 ],
 "metadata": {
  "anaconda-cloud": {},
  "kernelspec": {
   "display_name": "Python 3",
   "language": "python",
   "name": "python3"
  },
  "language_info": {
   "codemirror_mode": {
    "name": "ipython",
    "version": 3
   },
   "file_extension": ".py",
   "mimetype": "text/x-python",
   "name": "python",
   "nbconvert_exporter": "python",
   "pygments_lexer": "ipython3",
   "version": "3.6.0"
  },
  "toc": {
   "colors": {
    "hover_highlight": "#DAA520",
    "running_highlight": "#FF0000",
    "selected_highlight": "#FFD700"
   },
   "moveMenuLeft": true,
   "nav_menu": {
    "height": "512px",
    "width": "252px"
   },
   "navigate_menu": true,
   "number_sections": true,
   "sideBar": true,
   "threshold": 4,
   "toc_cell": false,
   "toc_section_display": "block",
   "toc_window_display": false
  }
 },
 "nbformat": 4,
 "nbformat_minor": 0
}
